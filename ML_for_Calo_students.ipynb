{
 "cells": [
  {
   "cell_type": "code",
   "execution_count": 23,
   "id": "55d34e4a",
   "metadata": {},
   "outputs": [],
   "source": [
    "import uproot\n",
    "import numpy as np\n",
    "import networkx as nx\n",
    "import matplotlib.pyplot as plt\n",
    "from scipy.spatial.distance import cdist\n",
    "from sklearn.model_selection import cross_val_score, cross_val_predict, train_test_split"
   ]
  },
  {
   "cell_type": "code",
   "execution_count": 24,
   "id": "25e5d2cb",
   "metadata": {},
   "outputs": [
    {
     "data": {
      "text/plain": [
       "'5.0.9'"
      ]
     },
     "execution_count": 24,
     "metadata": {},
     "output_type": "execute_result"
    }
   ],
   "source": [
    "uproot.__version__"
   ]
  },
  {
   "cell_type": "code",
   "execution_count": 25,
   "id": "9d838e46",
   "metadata": {},
   "outputs": [
    {
     "name": "stdout",
     "output_type": "stream",
     "text": [
      "GNNKeras.ipynb                          MyxAODAnalysis_Data.outputs.root\r\n",
      "LLP_for_Calo.ipynb                      MyxAODAnalysis_cluster.outputs.root\r\n",
      "LLP_time-Copy1.ipynb                    Untitled.ipynb\r\n",
      "LLP_time.ipynb                          ZacClub.ipynb\r\n",
      "LLP_time_1.ipynb                        fixed_length.py\r\n",
      "\u001b[34mMLBasedCaloClustering\u001b[m\u001b[m                   karate.edgelist\r\n",
      "ML_01.ipynb                             mlp-0000.params\r\n",
      "\u001b[34mML_Cell_data\u001b[m\u001b[m                            mlp-symbol.json\r\n",
      "ML_for_Calo.ipynb                       mxHybrid.ipynb\r\n",
      "ML_for_Calo_students.ipynb              mxnet_exported_mlp.onnx\r\n",
      "MyxAODAnalysis.outputs100LLPevnts.root  \u001b[34mmy_env\u001b[m\u001b[m\r\n",
      "MyxAODAnalysis_100evnts.outputs.root    \u001b[34msaved_model\u001b[m\u001b[m\r\n",
      "MyxAODAnalysis_100evntsLLP.outputs.root trackML.ipynb\r\n"
     ]
    }
   ],
   "source": [
    "!ls .."
   ]
  },
  {
   "cell_type": "code",
   "execution_count": 26,
   "id": "58bf9e0b",
   "metadata": {},
   "outputs": [],
   "source": [
    "file = uproot.open(\"../MyxAODAnalysis_100evnts.outputs.root\")"
   ]
  },
  {
   "cell_type": "code",
   "execution_count": 27,
   "id": "107255ef",
   "metadata": {},
   "outputs": [
    {
     "data": {
      "text/plain": [
       "['analysis;1']"
      ]
     },
     "execution_count": 27,
     "metadata": {},
     "output_type": "execute_result"
    }
   ],
   "source": [
    "file.keys()"
   ]
  },
  {
   "cell_type": "code",
   "execution_count": 28,
   "id": "b0470332",
   "metadata": {},
   "outputs": [],
   "source": [
    "tree = file['analysis']"
   ]
  },
  {
   "cell_type": "code",
   "execution_count": 29,
   "id": "c627b62c",
   "metadata": {
    "scrolled": true
   },
   "outputs": [
    {
     "data": {
      "text/plain": [
       "['RunNumber',\n",
       " 'EventNumber',\n",
       " 'cell_eta',\n",
       " 'cell_phi',\n",
       " 'cell_x',\n",
       " 'cell_y',\n",
       " 'cell_z',\n",
       " 'cell_subCalo',\n",
       " 'cell_sampling',\n",
       " 'cell_size',\n",
       " 'cell_e',\n",
       " 'cell_sigma',\n",
       " 'cell_time',\n",
       " 'cell_weight',\n",
       " 'cell_truth',\n",
       " 'cell_cluster_index',\n",
       " 'cluster_to_cell_indices',\n",
       " 'cluster_to_cell_weights',\n",
       " 'cell_to_cluster_e',\n",
       " 'cell_to_cluster_eta',\n",
       " 'cell_to_cluster_phi',\n",
       " 'cluster_eta',\n",
       " 'cluster_phi',\n",
       " 'cluster_e',\n",
       " 'cellsNo_cluster',\n",
       " 'clustersNo_event',\n",
       " 'jet_energyWtdTimeAve']"
      ]
     },
     "execution_count": 29,
     "metadata": {},
     "output_type": "execute_result"
    }
   ],
   "source": [
    "tree.keys() # no. of variables per event"
   ]
  },
  {
   "cell_type": "code",
   "execution_count": 30,
   "id": "c2c0d132",
   "metadata": {},
   "outputs": [],
   "source": [
    "branches = tree.arrays()"
   ]
  },
  {
   "cell_type": "code",
   "execution_count": 31,
   "id": "45a3ccec",
   "metadata": {},
   "outputs": [],
   "source": [
    "# this one just dealing with 1 event (e.g. 0th event)\n",
    "cell_coordinate_x = branches['cell_x'][0]\n",
    "cell_coordinate_y = branches['cell_y'][0]\n",
    "cell_coordinate_z = branches['cell_z'][0]\n",
    "cell_subCalo = branches['cell_subCalo'][0]\n",
    "cell_sampling = branches['cell_sampling'][0]\n",
    "cell_weight = branches['cell_weight'][0]\n",
    "cell_truth = branches['cell_truth'][0]\n",
    "cell_to_cluster_e = branches['cell_to_cluster_e'][0]\n",
    "cell_sigma = branches['cell_sigma'][0]\n",
    "cell_time = branches['cell_time'][0]\n",
    "cellsNo_cluster = branches['cellsNo_cluster'][0]\n",
    "clustersNo_event = branches['clustersNo_event'][0]\n",
    "cell_cluster_index = branches['cell_cluster_index'][0]\n",
    "cell_e = branches['cell_e'][0]"
   ]
  },
  {
   "cell_type": "code",
   "execution_count": 32,
   "id": "70d77175",
   "metadata": {},
   "outputs": [],
   "source": [
    "# convert them to numpy array otherwise they I believe behave like lists\n",
    "cell_coordinate_x = np.array(cell_coordinate_x)\n",
    "cell_coordinate_y = np.array(cell_coordinate_y)\n",
    "cell_coordinate_z = np.array(cell_coordinate_z)\n",
    "cell_subCalo = np.array(cell_subCalo)\n",
    "cell_sampling = np.array(cell_sampling)\n",
    "cell_weight = np.array(cell_weight)\n",
    "cell_truth = np.array(cell_truth)\n",
    "cell_to_cluster_e = np.array(cell_to_cluster_e)\n",
    "cell_sigma = np.array(cell_sigma)\n",
    "cell_time = np.array(cell_time)\n",
    "cellsNo_cluster = np.array(cellsNo_cluster)\n",
    "clustersNo_event = np.array(clustersNo_event)\n",
    "cell_cluster_index = np.array(cell_cluster_index)\n",
    "cell_e = np.array(cell_e)"
   ]
  },
  {
   "cell_type": "code",
   "execution_count": 33,
   "id": "e05a1c72",
   "metadata": {},
   "outputs": [
    {
     "data": {
      "text/html": [
       "<pre>[839]\n",
       "---------------\n",
       "type: 1 * int32</pre>"
      ],
      "text/plain": [
       "<Array [839] type='1 * int32'>"
      ]
     },
     "execution_count": 33,
     "metadata": {},
     "output_type": "execute_result"
    }
   ],
   "source": [
    "branches['clustersNo_event'][0]"
   ]
  },
  {
   "cell_type": "code",
   "execution_count": 45,
   "id": "eb020612",
   "metadata": {},
   "outputs": [],
   "source": [
    "indices_tile = [i for i in range(len(cell_subCalo)) if cell_subCalo[i] == 3]"
   ]
  },
  {
   "cell_type": "code",
   "execution_count": 35,
   "id": "5ab4e7db",
   "metadata": {},
   "outputs": [
    {
     "data": {
      "image/png": "[encoded data removed]",
      "text/plain": [
       "<Figure size 432x288 with 1 Axes>"
      ]
     },
     "metadata": {
      "needs_background": "light"
     },
     "output_type": "display_data"
    }
   ],
   "source": [
    "# cells contributing to a cluster\n",
    "#LAREM = 0, LARHEC = 1, LARFCAL = 2, TILE = 3, LARMINIFCAL = 4, NSUBCALO = 5,\n",
    "plt.hist(cell_coordinate_x)\n",
    "plt.show()"
   ]
  },
  {
   "cell_type": "code",
   "execution_count": 36,
   "id": "0f62e5fb",
   "metadata": {
    "scrolled": true
   },
   "outputs": [
    {
     "data": {
      "image/png": "[encoded data removed]",
      "text/plain": [
       "<Figure size 432x288 with 1 Axes>"
      ]
     },
     "metadata": {
      "needs_background": "light"
     },
     "output_type": "display_data"
    }
   ],
   "source": [
    "plt.hist(cell_coordinate_y)\n",
    "plt.show()"
   ]
  },
  {
   "cell_type": "code",
   "execution_count": 37,
   "id": "43424b9c",
   "metadata": {},
   "outputs": [
    {
     "data": {
      "image/png": "[encoded data removed]",
      "text/plain": [
       "<Figure size 432x288 with 1 Axes>"
      ]
     },
     "metadata": {
      "needs_background": "light"
     },
     "output_type": "display_data"
    }
   ],
   "source": [
    "plt.hist(cell_coordinate_z)\n",
    "plt.show()"
   ]
  },
  {
   "cell_type": "code",
   "execution_count": 38,
   "id": "3f25a651",
   "metadata": {
    "scrolled": true
   },
   "outputs": [
    {
     "data": {
      "image/png": "[encoded data removed]",
      "text/plain": [
       "<Figure size 432x288 with 1 Axes>"
      ]
     },
     "metadata": {
      "needs_background": "light"
     },
     "output_type": "display_data"
    }
   ],
   "source": [
    "plt.hist(cell_e)\n",
    "plt.show()"
   ]
  },
  {
   "cell_type": "code",
   "execution_count": 39,
   "id": "03d63055",
   "metadata": {},
   "outputs": [
    {
     "data": {
      "image/png": "[encoded data removed]",
      "text/plain": [
       "<Figure size 432x288 with 1 Axes>"
      ]
     },
     "metadata": {
      "needs_background": "light"
     },
     "output_type": "display_data"
    }
   ],
   "source": [
    "plt.hist(cell_truth)\n",
    "plt.show()"
   ]
  },
  {
   "cell_type": "code",
   "execution_count": 48,
   "id": "da5a9a94",
   "metadata": {},
   "outputs": [],
   "source": [
    "cell_sigma_tile = cell_sigma[indices_tile]\n",
    "cell_time_tile = cell_time[indices_tile]"
   ]
  },
  {
   "cell_type": "code",
   "execution_count": 50,
   "id": "01da1958",
   "metadata": {},
   "outputs": [
    {
     "data": {
      "image/png": "[encoded data removed]",
      "text/plain": [
       "<Figure size 432x288 with 1 Axes>"
      ]
     },
     "metadata": {
      "needs_background": "light"
     },
     "output_type": "display_data"
    }
   ],
   "source": [
    "plt.hist(cell_time_tile)\n",
    "plt.show()"
   ]
  },
  {
   "cell_type": "code",
   "execution_count": 52,
   "id": "1b21f7b3",
   "metadata": {},
   "outputs": [
    {
     "data": {
      "text/plain": [
       "0.0"
      ]
     },
     "execution_count": 52,
     "metadata": {},
     "output_type": "execute_result"
    }
   ],
   "source": []
  },
  {
   "cell_type": "code",
   "execution_count": 49,
   "id": "d81ffced",
   "metadata": {},
   "outputs": [
    {
     "data": {
      "image/png": "[encoded data removed]",
      "text/plain": [
       "<Figure size 432x288 with 1 Axes>"
      ]
     },
     "metadata": {
      "needs_background": "light"
     },
     "output_type": "display_data"
    }
   ],
   "source": [
    "plt.plot(cell_sigma_tile, cell_time_tile, ',')\n",
    "plt.show()"
   ]
  },
  {
   "cell_type": "code",
   "execution_count": 47,
   "id": "398faa49",
   "metadata": {},
   "outputs": [
    {
     "data": {
      "image/png": "[encoded data removed]",
      "text/plain": [
       "<Figure size 432x288 with 1 Axes>"
      ]
     },
     "metadata": {
      "needs_background": "light"
     },
     "output_type": "display_data"
    }
   ],
   "source": [
    "plt.hist(cell_sigma_tile)\n",
    "plt.show()"
   ]
  },
  {
   "cell_type": "code",
   "execution_count": null,
   "id": "a9690da1",
   "metadata": {},
   "outputs": [],
   "source": []
  },
  {
   "cell_type": "code",
   "execution_count": null,
   "id": "e278aacc",
   "metadata": {},
   "outputs": [],
   "source": []
  },
  {
   "cell_type": "code",
   "execution_count": 19,
   "id": "c9fded16",
   "metadata": {},
   "outputs": [],
   "source": [
    "indices_negE = [i for i in range(len(cell_e)) if cell_e[i] < 0]"
   ]
  },
  {
   "cell_type": "code",
   "execution_count": 20,
   "id": "1dbf3a6c",
   "metadata": {},
   "outputs": [],
   "source": [
    "cellTruthwithNegE = cell_truth[indices_negE]"
   ]
  },
  {
   "cell_type": "code",
   "execution_count": 23,
   "id": "cd823b61",
   "metadata": {},
   "outputs": [
    {
     "data": {
      "image/png": "[encoded data removed]",
      "text/plain": [
       "<Figure size 432x288 with 1 Axes>"
      ]
     },
     "metadata": {
      "needs_background": "light"
     },
     "output_type": "display_data"
    }
   ],
   "source": [
    "plt.hist(cellTruthwithNegE)\n",
    "plt.show()"
   ]
  },
  {
   "cell_type": "code",
   "execution_count": 25,
   "id": "518172cf",
   "metadata": {},
   "outputs": [],
   "source": [
    "import pandas as pd"
   ]
  },
  {
   "cell_type": "code",
   "execution_count": 28,
   "id": "3607d853",
   "metadata": {},
   "outputs": [],
   "source": [
    "df = pd.DataFrame({\"cell_coordinate_x\":cell_coordinate_x,\n",
    "                   \"cell_coordinate_y\":cell_coordinate_y,\n",
    "                   \"cell_coordinate_z\":cell_coordinate_z,\n",
    "                   \"cell_truth\":cell_truth,\n",
    "                   \"cell_weight\":cell_weight,\n",
    "                   \"cell_noise\":cell_sigma,\n",
    "                   \"cell_subCalo\":cell_subCalo,\n",
    "                   \"cell_e\":cell_e,\n",
    "                  })"
   ]
  },
  {
   "cell_type": "code",
   "execution_count": 29,
   "id": "a05b7cc5",
   "metadata": {},
   "outputs": [
    {
     "data": {
      "text/html": [
       "<div>\n",
       "<style scoped>\n",
       "    .dataframe tbody tr th:only-of-type {\n",
       "        vertical-align: middle;\n",
       "    }\n",
       "\n",
       "    .dataframe tbody tr th {\n",
       "        vertical-align: top;\n",
       "    }\n",
       "\n",
       "    .dataframe thead th {\n",
       "        text-align: right;\n",
       "    }\n",
       "</style>\n",
       "<table border=\"1\" class=\"dataframe\">\n",
       "  <thead>\n",
       "    <tr style=\"text-align: right;\">\n",
       "      <th></th>\n",
       "      <th>cell_coordinate_x</th>\n",
       "      <th>cell_coordinate_y</th>\n",
       "      <th>cell_coordinate_z</th>\n",
       "      <th>cell_truth</th>\n",
       "      <th>cell_weight</th>\n",
       "      <th>cell_noise</th>\n",
       "      <th>cell_subCalo</th>\n",
       "      <th>cell_e</th>\n",
       "    </tr>\n",
       "  </thead>\n",
       "  <tbody>\n",
       "    <tr>\n",
       "      <th>0</th>\n",
       "      <td>616.838867</td>\n",
       "      <td>33.279976</td>\n",
       "      <td>-3970.418457</td>\n",
       "      <td>0</td>\n",
       "      <td>0.0</td>\n",
       "      <td>2000.014526</td>\n",
       "      <td>0</td>\n",
       "      <td>1153.415527</td>\n",
       "    </tr>\n",
       "    <tr>\n",
       "      <th>1</th>\n",
       "      <td>610.660461</td>\n",
       "      <td>93.484917</td>\n",
       "      <td>-3970.418457</td>\n",
       "      <td>0</td>\n",
       "      <td>0.0</td>\n",
       "      <td>2000.014282</td>\n",
       "      <td>0</td>\n",
       "      <td>-585.246765</td>\n",
       "    </tr>\n",
       "    <tr>\n",
       "      <th>2</th>\n",
       "      <td>598.610657</td>\n",
       "      <td>152.794373</td>\n",
       "      <td>-3970.418457</td>\n",
       "      <td>0</td>\n",
       "      <td>0.0</td>\n",
       "      <td>2000.014526</td>\n",
       "      <td>0</td>\n",
       "      <td>-2005.091553</td>\n",
       "    </tr>\n",
       "    <tr>\n",
       "      <th>3</th>\n",
       "      <td>580.805481</td>\n",
       "      <td>210.637146</td>\n",
       "      <td>-3970.418457</td>\n",
       "      <td>0</td>\n",
       "      <td>0.0</td>\n",
       "      <td>2000.014771</td>\n",
       "      <td>0</td>\n",
       "      <td>-29.105059</td>\n",
       "    </tr>\n",
       "    <tr>\n",
       "      <th>4</th>\n",
       "      <td>557.416626</td>\n",
       "      <td>266.456024</td>\n",
       "      <td>-3970.418457</td>\n",
       "      <td>0</td>\n",
       "      <td>0.0</td>\n",
       "      <td>2000.014526</td>\n",
       "      <td>0</td>\n",
       "      <td>-570.273132</td>\n",
       "    </tr>\n",
       "  </tbody>\n",
       "</table>\n",
       "</div>"
      ],
      "text/plain": [
       "   cell_coordinate_x  cell_coordinate_y  cell_coordinate_z  cell_truth  \\\n",
       "0         616.838867          33.279976       -3970.418457           0   \n",
       "1         610.660461          93.484917       -3970.418457           0   \n",
       "2         598.610657         152.794373       -3970.418457           0   \n",
       "3         580.805481         210.637146       -3970.418457           0   \n",
       "4         557.416626         266.456024       -3970.418457           0   \n",
       "\n",
       "   cell_weight   cell_noise  cell_subCalo       cell_e  \n",
       "0          0.0  2000.014526             0  1153.415527  \n",
       "1          0.0  2000.014282             0  -585.246765  \n",
       "2          0.0  2000.014526             0 -2005.091553  \n",
       "3          0.0  2000.014771             0   -29.105059  \n",
       "4          0.0  2000.014526             0  -570.273132  "
      ]
     },
     "execution_count": 29,
     "metadata": {},
     "output_type": "execute_result"
    }
   ],
   "source": [
    "df.head()"
   ]
  },
  {
   "cell_type": "code",
   "execution_count": 79,
   "id": "6b0593fe",
   "metadata": {},
   "outputs": [],
   "source": [
    "arr = np.arange(187652)\n",
    "np.random.shuffle(arr)"
   ]
  },
  {
   "cell_type": "code",
   "execution_count": 85,
   "id": "86d3b762",
   "metadata": {},
   "outputs": [],
   "source": [
    "cell_coordinate_xrand = cell_coordinate_x[arr]\n",
    "cell_coordinate_yrand = cell_coordinate_y[arr]\n",
    "cell_coordinate_zrand = cell_coordinate_z[arr]\n",
    "cell_truthrand = cell_truth[arr]\n",
    "cell_noiserand = cell_sigma[arr]\n",
    "cell_erand = cell_e[arr]"
   ]
  },
  {
   "cell_type": "code",
   "execution_count": 86,
   "id": "2a0ee04a",
   "metadata": {},
   "outputs": [
    {
     "data": {
      "text/plain": [
       "(187652,)"
      ]
     },
     "execution_count": 86,
     "metadata": {},
     "output_type": "execute_result"
    }
   ],
   "source": [
    "cell_coordinate_xrand.shape"
   ]
  },
  {
   "cell_type": "code",
   "execution_count": 87,
   "id": "7fcc87fc",
   "metadata": {},
   "outputs": [],
   "source": [
    "cell_coordinate_xT = np.transpose(np.expand_dims(cell_coordinate_xrand , axis=0))\n",
    "cell_coordinate_yT = np.transpose(np.expand_dims(cell_coordinate_yrand , axis=0))\n",
    "cell_coordinate_zT = np.transpose(np.expand_dims(cell_coordinate_zrand , axis=0))\n",
    "cell_truth_T = np.transpose(np.expand_dims(cell_truthrand , axis=0))\n",
    "cell_noise_T = np.transpose(np.expand_dims(cell_noiserand , axis=0))\n",
    "cell_e_T = np.transpose(np.expand_dims(cell_erand , axis=0))"
   ]
  },
  {
   "cell_type": "code",
   "execution_count": 88,
   "id": "c8af8db3",
   "metadata": {},
   "outputs": [
    {
     "data": {
      "text/plain": [
       "(187652, 1)"
      ]
     },
     "execution_count": 88,
     "metadata": {},
     "output_type": "execute_result"
    }
   ],
   "source": [
    "cell_coordinate_xT.shape"
   ]
  },
  {
   "cell_type": "code",
   "execution_count": 89,
   "id": "0198a9df",
   "metadata": {},
   "outputs": [],
   "source": [
    "features = np.concatenate((cell_coordinate_xT, cell_coordinate_yT, cell_coordinate_zT, cell_noise_T, cell_e_T),1)"
   ]
  },
  {
   "cell_type": "code",
   "execution_count": 90,
   "id": "1ab75745",
   "metadata": {},
   "outputs": [
    {
     "data": {
      "text/plain": [
       "(187652, 5)"
      ]
     },
     "execution_count": 90,
     "metadata": {},
     "output_type": "execute_result"
    }
   ],
   "source": [
    "features.shape"
   ]
  },
  {
   "cell_type": "code",
   "execution_count": 91,
   "id": "1303d5c3",
   "metadata": {},
   "outputs": [],
   "source": [
    "truth_label =  cell_truth_T"
   ]
  },
  {
   "cell_type": "code",
   "execution_count": 92,
   "id": "87e99b7f",
   "metadata": {},
   "outputs": [],
   "source": [
    "features_train, features_test, truth_label_train, truth_label_test = train_test_split(\n",
    "    features, truth_label, train_size=0.70)"
   ]
  },
  {
   "cell_type": "code",
   "execution_count": 93,
   "id": "c13d76d3",
   "metadata": {},
   "outputs": [
    {
     "name": "stdout",
     "output_type": "stream",
     "text": [
      "features:  (131356, 5)\n",
      "truth_label:  (131356, 1)\n"
     ]
    }
   ],
   "source": [
    "print(\"features: \",features_train.shape)\n",
    "print(\"truth_label: \",truth_label_train.shape)"
   ]
  },
  {
   "cell_type": "code",
   "execution_count": null,
   "id": "5928045e",
   "metadata": {},
   "outputs": [],
   "source": []
  }
 ],
 "metadata": {
  "kernelspec": {
   "display_name": "my_env",
   "language": "python",
   "name": "my_env"
  },
  "language_info": {
   "codemirror_mode": {
    "name": "ipython",
    "version": 3
   },
   "file_extension": ".py",
   "mimetype": "text/x-python",
   "name": "python",
   "nbconvert_exporter": "python",
   "pygments_lexer": "ipython3",
   "version": "3.8.6"
  }
 },
 "nbformat": 4,
 "nbformat_minor": 5
}
