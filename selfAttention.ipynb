{
 "cells": [
  {
   "cell_type": "code",
   "execution_count": 56,
   "id": "e1b810ae",
   "metadata": {},
   "outputs": [],
   "source": [
    "import wget"
   ]
  },
  {
   "cell_type": "code",
   "execution_count": 8,
   "id": "f39229f5",
   "metadata": {},
   "outputs": [
    {
     "name": "stdout",
     "output_type": "stream",
     "text": [
      "/anaconda2/bin/python: No module named wget\r\n"
     ]
    }
   ],
   "source": [
    "!python -m wget https://github.com/karpathy/char-rnn/blob/master/data/tinyshakespeare/input.txt"
   ]
  },
  {
   "cell_type": "code",
   "execution_count": 5,
   "id": "0d1aa019",
   "metadata": {},
   "outputs": [
    {
     "name": "stdout",
     "output_type": "stream",
     "text": [
      "/bin/bash: wget: command not found\r\n"
     ]
    }
   ],
   "source": [
    "!wget"
   ]
  },
  {
   "cell_type": "code",
   "execution_count": 19,
   "id": "3bc7520a",
   "metadata": {},
   "outputs": [],
   "source": [
    "url = \"https://raw.githubusercontent.com/karpathy/char-rnn/master/data/tinyshakespeare/input.txt\""
   ]
  },
  {
   "cell_type": "code",
   "execution_count": 22,
   "id": "8484c672",
   "metadata": {},
   "outputs": [
    {
     "name": "stdout",
     "output_type": "stream",
     "text": [
      "\r",
      "  0% [                                                      ]       0 / 1115394\r",
      "  0% [                                                      ]    8192 / 1115394\r",
      "  1% [                                                      ]   16384 / 1115394\r",
      "  2% [.                                                     ]   24576 / 1115394\r",
      "  2% [.                                                     ]   32768 / 1115394\r",
      "  3% [.                                                     ]   40960 / 1115394\r",
      "  4% [..                                                    ]   49152 / 1115394\r",
      "  5% [..                                                    ]   57344 / 1115394\r",
      "  5% [...                                                   ]   65536 / 1115394\r",
      "  6% [...                                                   ]   73728 / 1115394\r",
      "  7% [...                                                   ]   81920 / 1115394\r",
      "  8% [....                                                  ]   90112 / 1115394\r",
      "  8% [....                                                  ]   98304 / 1115394\r",
      "  9% [.....                                                 ]  106496 / 1115394\r",
      " 10% [.....                                                 ]  114688 / 1115394\r",
      " 11% [.....                                                 ]  122880 / 1115394\r",
      " 11% [......                                                ]  131072 / 1115394\r",
      " 12% [......                                                ]  139264 / 1115394\r",
      " 13% [.......                                               ]  147456 / 1115394\r",
      " 13% [.......                                               ]  155648 / 1115394\r",
      " 14% [.......                                               ]  163840 / 1115394\r",
      " 15% [........                                              ]  172032 / 1115394\r",
      " 16% [........                                              ]  180224 / 1115394\r",
      " 16% [.........                                             ]  188416 / 1115394\r",
      " 17% [.........                                             ]  196608 / 1115394\r",
      " 18% [.........                                             ]  204800 / 1115394\r",
      " 19% [..........                                            ]  212992 / 1115394\r",
      " 19% [..........                                            ]  221184 / 1115394\r",
      " 20% [...........                                           ]  229376 / 1115394\r",
      " 21% [...........                                           ]  237568 / 1115394\r",
      " 22% [...........                                           ]  245760 / 1115394\r",
      " 22% [............                                          ]  253952 / 1115394\r",
      " 23% [............                                          ]  262144 / 1115394\r",
      " 24% [.............                                         ]  270336 / 1115394\r",
      " 24% [.............                                         ]  278528 / 1115394\r",
      " 25% [.............                                         ]  286720 / 1115394\r",
      " 26% [..............                                        ]  294912 / 1115394\r",
      " 27% [..............                                        ]  303104 / 1115394\r",
      " 27% [...............                                       ]  311296 / 1115394\r",
      " 28% [...............                                       ]  319488 / 1115394\r",
      " 29% [...............                                       ]  327680 / 1115394\r",
      " 30% [................                                      ]  335872 / 1115394\r",
      " 30% [................                                      ]  344064 / 1115394\r",
      " 31% [.................                                     ]  352256 / 1115394\r",
      " 32% [.................                                     ]  360448 / 1115394\r",
      " 33% [.................                                     ]  368640 / 1115394\r",
      " 33% [..................                                    ]  376832 / 1115394\r",
      " 34% [..................                                    ]  385024 / 1115394\r",
      " 35% [...................                                   ]  393216 / 1115394\r",
      " 35% [...................                                   ]  401408 / 1115394\r",
      " 36% [...................                                   ]  409600 / 1115394\r",
      " 37% [....................                                  ]  417792 / 1115394\r",
      " 38% [....................                                  ]  425984 / 1115394\r",
      " 38% [.....................                                 ]  434176 / 1115394\r",
      " 39% [.....................                                 ]  442368 / 1115394\r",
      " 40% [.....................                                 ]  450560 / 1115394\r",
      " 41% [......................                                ]  458752 / 1115394\r",
      " 41% [......................                                ]  466944 / 1115394\r",
      " 42% [.......................                               ]  475136 / 1115394\r",
      " 43% [.......................                               ]  483328 / 1115394\r",
      " 44% [.......................                               ]  491520 / 1115394\r",
      " 44% [........................                              ]  499712 / 1115394\r",
      " 45% [........................                              ]  507904 / 1115394\r",
      " 46% [........................                              ]  516096 / 1115394\r",
      " 47% [.........................                             ]  524288 / 1115394\r",
      " 47% [.........................                             ]  532480 / 1115394\r",
      " 48% [..........................                            ]  540672 / 1115394\r",
      " 49% [..........................                            ]  548864 / 1115394\r",
      " 49% [..........................                            ]  557056 / 1115394\r",
      " 50% [...........................                           ]  565248 / 1115394\r",
      " 51% [...........................                           ]  573440 / 1115394\r",
      " 52% [............................                          ]  581632 / 1115394\r",
      " 52% [............................                          ]  589824 / 1115394\r",
      " 53% [............................                          ]  598016 / 1115394\r",
      " 54% [.............................                         ]  606208 / 1115394\r",
      " 55% [.............................                         ]  614400 / 1115394\r",
      " 55% [..............................                        ]  622592 / 1115394\r",
      " 56% [..............................                        ]  630784 / 1115394\r",
      " 57% [..............................                        ]  638976 / 1115394\r",
      " 58% [...............................                       ]  647168 / 1115394\r",
      " 58% [...............................                       ]  655360 / 1115394\r",
      " 59% [................................                      ]  663552 / 1115394\r",
      " 60% [................................                      ]  671744 / 1115394\r",
      " 60% [................................                      ]  679936 / 1115394\r",
      " 61% [.................................                     ]  688128 / 1115394\r",
      " 62% [.................................                     ]  696320 / 1115394\r",
      " 63% [..................................                    ]  704512 / 1115394\r",
      " 63% [..................................                    ]  712704 / 1115394\r",
      " 64% [..................................                    ]  720896 / 1115394\r",
      " 65% [...................................                   ]  729088 / 1115394\r",
      " 66% [...................................                   ]  737280 / 1115394\r",
      " 66% [....................................                  ]  745472 / 1115394\r",
      " 67% [....................................                  ]  753664 / 1115394\r",
      " 68% [....................................                  ]  761856 / 1115394\r",
      " 69% [.....................................                 ]  770048 / 1115394\r",
      " 69% [.....................................                 ]  778240 / 1115394\r",
      " 70% [......................................                ]  786432 / 1115394\r",
      " 71% [......................................                ]  794624 / 1115394\r",
      " 71% [......................................                ]  802816 / 1115394\r",
      " 72% [.......................................               ]  811008 / 1115394\r",
      " 73% [.......................................               ]  819200 / 1115394\r",
      " 74% [........................................              ]  827392 / 1115394\r",
      " 74% [........................................              ]  835584 / 1115394\r",
      " 75% [........................................              ]  843776 / 1115394\r",
      " 76% [.........................................             ]  851968 / 1115394\r",
      " 77% [.........................................             ]  860160 / 1115394\r",
      " 77% [..........................................            ]  868352 / 1115394\r",
      " 78% [..........................................            ]  876544 / 1115394\r",
      " 79% [..........................................            ]  884736 / 1115394\r",
      " 80% [...........................................           ]  892928 / 1115394\r",
      " 80% [...........................................           ]  901120 / 1115394\r",
      " 81% [............................................          ]  909312 / 1115394\r",
      " 82% [............................................          ]  917504 / 1115394\r",
      " 82% [............................................          ]  925696 / 1115394\r",
      " 83% [.............................................         ]  933888 / 1115394\r",
      " 84% [.............................................         ]  942080 / 1115394\r",
      " 85% [..............................................        ]  950272 / 1115394\r",
      " 85% [..............................................        ]  958464 / 1115394\r",
      " 86% [..............................................        ]  966656 / 1115394\r",
      " 87% [...............................................       ]  974848 / 1115394\r",
      " 88% [...............................................       ]  983040 / 1115394\r",
      " 88% [...............................................       ]  991232 / 1115394\r",
      " 89% [................................................      ]  999424 / 1115394\r",
      " 90% [................................................      ] 1007616 / 1115394\r",
      " 91% [.................................................     ] 1015808 / 1115394\r",
      " 91% [.................................................     ] 1024000 / 1115394\r",
      " 92% [.................................................     ] 1032192 / 1115394\r",
      " 93% [..................................................    ] 1040384 / 1115394\r",
      " 94% [..................................................    ] 1048576 / 1115394\r",
      " 94% [...................................................   ] 1056768 / 1115394\r",
      " 95% [...................................................   ] 1064960 / 1115394\r",
      " 96% [...................................................   ] 1073152 / 1115394\r",
      " 96% [....................................................  ] 1081344 / 1115394\r",
      " 97% [....................................................  ] 1089536 / 1115394\r",
      " 98% [..................................................... ] 1097728 / 1115394\r",
      " 99% [..................................................... ] 1105920 / 1115394\r",
      " 99% [..................................................... ] 1114112 / 1115394\r",
      "100% [......................................................] 1115394 / 1115394"
     ]
    },
    {
     "data": {
      "text/plain": [
       "'input.txt'"
      ]
     },
     "execution_count": 22,
     "metadata": {},
     "output_type": "execute_result"
    }
   ],
   "source": [
    "wget.download(url)"
   ]
  },
  {
   "cell_type": "code",
   "execution_count": 23,
   "id": "dc43aa85",
   "metadata": {},
   "outputs": [
    {
     "name": "stdout",
     "output_type": "stream",
     "text": [
      "ML_for_Calo_students.ipynb selfAttention.ipynb\r\n",
      "README.md\r\n"
     ]
    }
   ],
   "source": [
    "!ls"
   ]
  },
  {
   "cell_type": "code",
   "execution_count": 24,
   "id": "06e8ff37",
   "metadata": {},
   "outputs": [],
   "source": [
    "with open(\"../input.txt\", 'r', encoding ='utf-8') as f:\n",
    "    text = f.read()"
   ]
  },
  {
   "cell_type": "code",
   "execution_count": 25,
   "id": "b24d4674",
   "metadata": {},
   "outputs": [
    {
     "data": {
      "text/plain": [
       "1115394"
      ]
     },
     "execution_count": 25,
     "metadata": {},
     "output_type": "execute_result"
    }
   ],
   "source": [
    "len(text)"
   ]
  },
  {
   "cell_type": "code",
   "execution_count": 26,
   "id": "acff473e",
   "metadata": {},
   "outputs": [
    {
     "name": "stdout",
     "output_type": "stream",
     "text": [
      "print 1st 1000 characters:  First Citizen:\n",
      "Before we proceed any further, hear me speak.\n",
      "\n",
      "All:\n",
      "Speak, speak.\n",
      "\n",
      "First Citizen:\n",
      "You are all resolved rather to die than to famish?\n",
      "\n",
      "All:\n",
      "Resolved. resolved.\n",
      "\n",
      "First Citizen:\n",
      "First, you know Caius Marcius is chief enemy to the people.\n",
      "\n",
      "All:\n",
      "We know't, we know't.\n",
      "\n",
      "First Citizen:\n",
      "Let us kill him, and we'll have corn at our own price.\n",
      "Is't a verdict?\n",
      "\n",
      "All:\n",
      "No more talking on't; let it be done: away, away!\n",
      "\n",
      "Second Citizen:\n",
      "One word, good citizens.\n",
      "\n",
      "First Citizen:\n",
      "We are accounted poor citizens, the patricians good.\n",
      "What authority surfeits on would relieve us: if they\n",
      "would yield us but the superfluity, while it were\n",
      "wholesome, we might guess they relieved us humanely;\n",
      "but they think we are too dear: the leanness that\n",
      "afflicts us, the object of our misery, is as an\n",
      "inventory to particularise their abundance; our\n",
      "sufferance is a gain to them Let us revenge this with\n",
      "our pikes, ere we become rakes: for the gods know I\n",
      "speak this in hunger for bread, not in thirst for revenge.\n",
      "\n",
      "\n"
     ]
    }
   ],
   "source": [
    "#print 1st 1000 characters\n",
    "print(\"print 1st 1000 characters: \",text[:1000])"
   ]
  },
  {
   "cell_type": "code",
   "execution_count": 29,
   "id": "299fa7ac",
   "metadata": {},
   "outputs": [
    {
     "name": "stdout",
     "output_type": "stream",
     "text": [
      "\n",
      " !$&',-.3:;?ABCDEFGHIJKLMNOPQRSTUVWXYZabcdefghijklmnopqrstuvwxyz\n",
      "65\n"
     ]
    }
   ],
   "source": [
    "chars = sorted(list(set(text)))\n",
    "vocab_size = len(chars)\n",
    "print(\"\".join(chars))\n",
    "print(vocab_size)"
   ]
  },
  {
   "cell_type": "code",
   "execution_count": 30,
   "id": "c277a8e6",
   "metadata": {},
   "outputs": [],
   "source": [
    "#create mapping from characters to integer\n",
    "ctoi = {ch:i for i,ch in enumerate(chars)}\n",
    "itoc = {i:ch for i,ch in enumerate(chars)}\n",
    "encode = lambda s:[ctoi[c] for c in s]\n",
    "decode = lambda s:\"\".join(itoc[i] for i in s)"
   ]
  },
  {
   "cell_type": "code",
   "execution_count": 31,
   "id": "0f75decc",
   "metadata": {},
   "outputs": [
    {
     "data": {
      "text/plain": [
       "[46, 47, 1, 58, 46, 43, 56, 43]"
      ]
     },
     "execution_count": 31,
     "metadata": {},
     "output_type": "execute_result"
    }
   ],
   "source": [
    "encode(\"hi there\")"
   ]
  },
  {
   "cell_type": "code",
   "execution_count": 32,
   "id": "011a2130",
   "metadata": {},
   "outputs": [
    {
     "data": {
      "text/plain": [
       "'hi there'"
      ]
     },
     "execution_count": 32,
     "metadata": {},
     "output_type": "execute_result"
    }
   ],
   "source": [
    "decode(encode(\"hi there\"))"
   ]
  },
  {
   "cell_type": "code",
   "execution_count": 43,
   "id": "dbc09695",
   "metadata": {},
   "outputs": [
    {
     "data": {
      "text/plain": [
       "<torch._C.Generator at 0x13734d6f0>"
      ]
     },
     "execution_count": 43,
     "metadata": {},
     "output_type": "execute_result"
    }
   ],
   "source": [
    "import torch\n",
    "torch.manual_seed(1337)"
   ]
  },
  {
   "cell_type": "code",
   "execution_count": 35,
   "id": "e2839f9e",
   "metadata": {},
   "outputs": [],
   "source": [
    "data = torch.tensor(encode(text), dtype = torch.long)"
   ]
  },
  {
   "cell_type": "code",
   "execution_count": 36,
   "id": "1956d192",
   "metadata": {},
   "outputs": [
    {
     "name": "stdout",
     "output_type": "stream",
     "text": [
      "torch.Size([1115394]) torch.int64\n"
     ]
    }
   ],
   "source": [
    "print(data.shape, data.dtype)"
   ]
  },
  {
   "cell_type": "code",
   "execution_count": 37,
   "id": "89272087",
   "metadata": {},
   "outputs": [
    {
     "data": {
      "text/plain": [
       "tensor([18, 47, 56, 57, 58,  1, 15, 47, 58, 47, 64, 43, 52, 10,  0, 14, 43, 44,\n",
       "        53, 56, 43,  1, 61, 43,  1, 54, 56, 53, 41, 43, 43, 42,  1, 39, 52, 63,\n",
       "         1, 44, 59, 56, 58, 46, 43, 56,  6,  1, 46, 43, 39, 56,  1, 51, 43,  1,\n",
       "        57, 54, 43, 39, 49,  8,  0,  0, 13, 50, 50, 10,  0, 31, 54, 43, 39, 49,\n",
       "         6,  1, 57, 54, 43, 39, 49,  8,  0,  0, 18, 47, 56, 57, 58,  1, 15, 47,\n",
       "        58, 47, 64, 43, 52, 10,  0, 37, 53, 59,  1, 39, 56, 43,  1, 39, 50, 50,\n",
       "         1, 56, 43, 57, 53, 50, 60, 43, 42,  1, 56, 39, 58, 46, 43, 56,  1, 58,\n",
       "        53,  1, 42, 47, 43,  1, 58, 46, 39, 52,  1, 58, 53,  1, 44, 39, 51, 47,\n",
       "        57, 46, 12,  0,  0, 13, 50, 50, 10,  0, 30, 43, 57, 53, 50, 60, 43, 42,\n",
       "         8,  1, 56, 43, 57, 53, 50, 60, 43, 42,  8,  0,  0, 18, 47, 56, 57, 58,\n",
       "         1, 15, 47, 58, 47, 64, 43, 52, 10,  0, 18, 47, 56, 57, 58,  6,  1, 63,\n",
       "        53, 59,  1, 49, 52, 53, 61,  1, 15, 39, 47, 59, 57,  1, 25, 39, 56, 41,\n",
       "        47, 59, 57,  1, 47, 57,  1, 41, 46, 47, 43, 44,  1, 43, 52, 43, 51, 63,\n",
       "         1, 58, 53,  1, 58, 46, 43,  1, 54, 43, 53, 54, 50, 43,  8,  0,  0, 13,\n",
       "        50, 50, 10,  0, 35, 43,  1, 49, 52, 53, 61,  5, 58,  6,  1, 61, 43,  1,\n",
       "        49, 52, 53, 61,  5, 58,  8,  0,  0, 18, 47, 56, 57, 58,  1, 15, 47, 58,\n",
       "        47, 64, 43, 52, 10,  0, 24, 43, 58,  1, 59, 57,  1, 49, 47, 50, 50,  1,\n",
       "        46, 47, 51,  6,  1, 39, 52, 42,  1, 61, 43,  5, 50, 50,  1, 46, 39, 60,\n",
       "        43,  1, 41, 53, 56, 52,  1, 39, 58,  1, 53, 59, 56,  1, 53, 61, 52,  1,\n",
       "        54, 56, 47, 41, 43,  8,  0, 21, 57,  5, 58,  1, 39,  1, 60, 43, 56, 42,\n",
       "        47, 41, 58, 12,  0,  0, 13, 50, 50, 10,  0, 26, 53,  1, 51, 53, 56, 43,\n",
       "         1, 58, 39, 50, 49, 47, 52, 45,  1, 53, 52,  5, 58, 11,  1, 50, 43, 58,\n",
       "         1, 47, 58,  1, 40, 43,  1, 42, 53, 52, 43, 10,  1, 39, 61, 39, 63,  6,\n",
       "         1, 39, 61, 39, 63,  2,  0,  0, 31, 43, 41, 53, 52, 42,  1, 15, 47, 58,\n",
       "        47, 64, 43, 52, 10,  0, 27, 52, 43,  1, 61, 53, 56, 42,  6,  1, 45, 53,\n",
       "        53, 42,  1, 41, 47, 58, 47, 64, 43, 52, 57,  8,  0,  0, 18, 47, 56, 57,\n",
       "        58,  1, 15, 47, 58, 47, 64, 43, 52, 10,  0, 35, 43,  1, 39, 56, 43,  1,\n",
       "        39, 41, 41, 53, 59, 52, 58, 43, 42,  1, 54, 53, 53, 56,  1, 41, 47, 58,\n",
       "        47, 64, 43, 52, 57,  6,  1, 58, 46, 43,  1, 54, 39, 58, 56, 47, 41, 47,\n",
       "        39, 52, 57,  1, 45, 53, 53, 42,  8,  0, 35, 46, 39, 58,  1, 39, 59, 58,\n",
       "        46, 53, 56, 47, 58, 63,  1, 57, 59, 56, 44, 43, 47, 58, 57,  1, 53, 52,\n",
       "         1, 61, 53, 59, 50, 42,  1, 56, 43, 50, 47, 43, 60, 43,  1, 59, 57, 10,\n",
       "         1, 47, 44,  1, 58, 46, 43, 63,  0, 61, 53, 59, 50, 42,  1, 63, 47, 43,\n",
       "        50, 42,  1, 59, 57,  1, 40, 59, 58,  1, 58, 46, 43,  1, 57, 59, 54, 43,\n",
       "        56, 44, 50, 59, 47, 58, 63,  6,  1, 61, 46, 47, 50, 43,  1, 47, 58,  1,\n",
       "        61, 43, 56, 43,  0, 61, 46, 53, 50, 43, 57, 53, 51, 43,  6,  1, 61, 43,\n",
       "         1, 51, 47, 45, 46, 58,  1, 45, 59, 43, 57, 57,  1, 58, 46, 43, 63,  1,\n",
       "        56, 43, 50, 47, 43, 60, 43, 42,  1, 59, 57,  1, 46, 59, 51, 39, 52, 43,\n",
       "        50, 63, 11,  0, 40, 59, 58,  1, 58, 46, 43, 63,  1, 58, 46, 47, 52, 49,\n",
       "         1, 61, 43,  1, 39, 56, 43,  1, 58, 53, 53,  1, 42, 43, 39, 56, 10,  1,\n",
       "        58, 46, 43,  1, 50, 43, 39, 52, 52, 43, 57, 57,  1, 58, 46, 39, 58,  0,\n",
       "        39, 44, 44, 50, 47, 41, 58, 57,  1, 59, 57,  6,  1, 58, 46, 43,  1, 53,\n",
       "        40, 48, 43, 41, 58,  1, 53, 44,  1, 53, 59, 56,  1, 51, 47, 57, 43, 56,\n",
       "        63,  6,  1, 47, 57,  1, 39, 57,  1, 39, 52,  0, 47, 52, 60, 43, 52, 58,\n",
       "        53, 56, 63,  1, 58, 53,  1, 54, 39, 56, 58, 47, 41, 59, 50, 39, 56, 47,\n",
       "        57, 43,  1, 58, 46, 43, 47, 56,  1, 39, 40, 59, 52, 42, 39, 52, 41, 43,\n",
       "        11,  1, 53, 59, 56,  0, 57, 59, 44, 44, 43, 56, 39, 52, 41, 43,  1, 47,\n",
       "        57,  1, 39,  1, 45, 39, 47, 52,  1, 58, 53,  1, 58, 46, 43, 51,  1, 24,\n",
       "        43, 58,  1, 59, 57,  1, 56, 43, 60, 43, 52, 45, 43,  1, 58, 46, 47, 57,\n",
       "         1, 61, 47, 58, 46,  0, 53, 59, 56,  1, 54, 47, 49, 43, 57,  6,  1, 43,\n",
       "        56, 43,  1, 61, 43,  1, 40, 43, 41, 53, 51, 43,  1, 56, 39, 49, 43, 57,\n",
       "        10,  1, 44, 53, 56,  1, 58, 46, 43,  1, 45, 53, 42, 57,  1, 49, 52, 53,\n",
       "        61,  1, 21,  0, 57, 54, 43, 39, 49,  1, 58, 46, 47, 57,  1, 47, 52,  1,\n",
       "        46, 59, 52, 45, 43, 56,  1, 44, 53, 56,  1, 40, 56, 43, 39, 42,  6,  1,\n",
       "        52, 53, 58,  1, 47, 52,  1, 58, 46, 47, 56, 57, 58,  1, 44, 53, 56,  1,\n",
       "        56, 43, 60, 43, 52, 45, 43,  8,  0,  0])"
      ]
     },
     "execution_count": 37,
     "metadata": {},
     "output_type": "execute_result"
    }
   ],
   "source": [
    "data[:1000]"
   ]
  },
  {
   "cell_type": "code",
   "execution_count": 38,
   "id": "fb044fd2",
   "metadata": {},
   "outputs": [],
   "source": [
    "n = int(0.9*len(data))\n",
    "train_data = data[:n]\n",
    "valid_data = data[n:]"
   ]
  },
  {
   "cell_type": "code",
   "execution_count": 93,
   "id": "5e598880",
   "metadata": {},
   "outputs": [
    {
     "data": {
      "text/plain": [
       "tensor([18, 47, 56, 57, 58,  1, 15, 47, 58])"
      ]
     },
     "execution_count": 93,
     "metadata": {},
     "output_type": "execute_result"
    }
   ],
   "source": [
    "# hyperparameters\n",
    "batch_size = 32 # how many independent sequences will we process in parallel?\n",
    "block_size = 8 # what is the maximum context length for predictions?\n",
    "max_iters = 3000\n",
    "eval_interval = 300\n",
    "learning_rate = 1e-2\n",
    "eval_iters = 200\n",
    "train_data[:block_size+1]"
   ]
  },
  {
   "cell_type": "code",
   "execution_count": 69,
   "id": "2ac11f43",
   "metadata": {},
   "outputs": [
    {
     "name": "stdout",
     "output_type": "stream",
     "text": [
      "when context is tensor([18]) target is 47\n",
      "when context is tensor([18, 47]) target is 56\n",
      "when context is tensor([18, 47, 56]) target is 57\n",
      "when context is tensor([18, 47, 56, 57]) target is 58\n",
      "when context is tensor([18, 47, 56, 57, 58]) target is 1\n",
      "when context is tensor([18, 47, 56, 57, 58,  1]) target is 15\n",
      "when context is tensor([18, 47, 56, 57, 58,  1, 15]) target is 47\n",
      "when context is tensor([18, 47, 56, 57, 58,  1, 15, 47]) target is 58\n"
     ]
    }
   ],
   "source": [
    "x = train_data[:block_size]\n",
    "y = train_data[1:block_size+1]\n",
    "for t in range(block_size):\n",
    "    context = x[:t+1]\n",
    "    target = y[t]\n",
    "    print(f\"when context is {context} target is {target}\")"
   ]
  },
  {
   "cell_type": "code",
   "execution_count": 70,
   "id": "43d550d8",
   "metadata": {},
   "outputs": [],
   "source": [
    "def get_batch(split):\n",
    "    # generate a small batch of data of inputs x and targets y\n",
    "    data = train_data if split == 'train' else val_data\n",
    "    ix = torch.randint(len(data) - block_size, (batch_size,))\n",
    "    #print(\"ix: \",ix)\n",
    "    x = torch.stack([data[i:i+block_size] for i in ix])\n",
    "    y = torch.stack([data[i+1:i+block_size+1] for i in ix])\n",
    "    #print(\"x.shape: \",x.shape)\n",
    "    #print(\"y.shape: \",y.shape)\n",
    "    return x, y"
   ]
  },
  {
   "cell_type": "code",
   "execution_count": 71,
   "id": "20aa80c6",
   "metadata": {},
   "outputs": [
    {
     "data": {
      "text/plain": [
       "(tensor([[47, 43, 52, 42,  6,  1, 61, 43],\n",
       "         [47, 52, 45,  1, 58, 46, 43,  1],\n",
       "         [50, 47, 43, 56,  1, 56, 43, 48],\n",
       "         [53, 58, 46,  1, 47, 52,  1, 63]]),\n",
       " tensor([[43, 52, 42,  6,  1, 61, 43,  1],\n",
       "         [52, 45,  1, 58, 46, 43,  1, 56],\n",
       "         [47, 43, 56,  1, 56, 43, 48, 53],\n",
       "         [58, 46,  1, 47, 52,  1, 63, 53]]))"
      ]
     },
     "execution_count": 71,
     "metadata": {},
     "output_type": "execute_result"
    }
   ],
   "source": [
    "get_batch(\"train\")"
   ]
  },
  {
   "cell_type": "code",
   "execution_count": 72,
   "id": "59ac3369",
   "metadata": {},
   "outputs": [],
   "source": [
    "import torch.nn as nn\n",
    "from torch.nn import functional as F"
   ]
  },
  {
   "cell_type": "code",
   "execution_count": 77,
   "id": "c7ce557a",
   "metadata": {},
   "outputs": [],
   "source": [
    "# super simple bigram model\n",
    "class BigramLanguageModel(nn.Module):\n",
    "\n",
    "    def __init__(self, vocab_size):\n",
    "        super().__init__()\n",
    "        # each token directly reads off the logits for the next token from a lookup table\n",
    "        self.token_embedding_table = nn.Embedding(vocab_size, vocab_size)\n",
    "\n",
    "    def forward(self, idx, targets=None):\n",
    "\n",
    "        # idx and targets are both (B,T) tensor of integers\n",
    "        logits = self.token_embedding_table(idx) # (B,T,C)\n",
    "        #print(\"logits: \",logits)\n",
    "        if targets is None:\n",
    "            loss = None\n",
    "        else:\n",
    "            B, T, C = logits.shape\n",
    "            logits = logits.view(B*T, C)\n",
    "            targets = targets.view(B*T)\n",
    "            loss = F.cross_entropy(logits, targets)\n",
    "\n",
    "        return logits, loss\n",
    "    def generate(self, idx, max_new_tokens):\n",
    "        # idx is (B, T) array of indices in the current context\n",
    "        for _ in range(max_new_tokens):\n",
    "            # get the predictions\n",
    "            logits, loss = self(idx)\n",
    "            # focus only on the last time step\n",
    "            logits = logits[:, -1, :] # becomes (B, C)\n",
    "            # apply softmax to get probabilities\n",
    "            probs = F.softmax(logits, dim=-1) # (B, C)\n",
    "            # sample from the distribution\n",
    "            idx_next = torch.multinomial(probs, num_samples=1) # (B, 1)\n",
    "            # append sampled index to the running sequence\n",
    "            idx = torch.cat((idx, idx_next), dim=1) # (B, T+1)\n",
    "        return idx"
   ]
  },
  {
   "cell_type": "code",
   "execution_count": 78,
   "id": "8c6127b7",
   "metadata": {},
   "outputs": [],
   "source": [
    "xb, yb = get_batch('train')"
   ]
  },
  {
   "cell_type": "code",
   "execution_count": 79,
   "id": "a1d8c714",
   "metadata": {},
   "outputs": [],
   "source": [
    "model = BigramLanguageModel(vocab_size)"
   ]
  },
  {
   "cell_type": "code",
   "execution_count": 89,
   "id": "8dd4a24b",
   "metadata": {},
   "outputs": [],
   "source": [
    "# create a PyTorch optimizer\n",
    "optimizer = torch.optim.AdamW(model.parameters(), lr=learning_rate)"
   ]
  },
  {
   "cell_type": "code",
   "execution_count": 95,
   "id": "3ad90696",
   "metadata": {},
   "outputs": [],
   "source": [
    "for iter in range(100):\n",
    "\n",
    "    # every once in a while evaluate the loss on train and val sets\n",
    "    #if iter % eval_interval == 0:\n",
    "    #    losses = estimate_loss()\n",
    "    #    print(f\"step {iter}: train loss {losses['train']:.4f}, val loss {losses['val']:.4f}\")\n",
    "\n",
    "    # sample a batch of data\n",
    "    xb, yb = get_batch('train')\n",
    "\n",
    "    # evaluate the loss\n",
    "    logits, loss = model(xb, yb)\n",
    "    optimizer.zero_grad(set_to_none=True)\n",
    "    loss.backward()\n",
    "    optimizer.step()\n",
    "    #print(loss.item())"
   ]
  },
  {
   "cell_type": "code",
   "execution_count": 80,
   "id": "78f1bbde",
   "metadata": {},
   "outputs": [
    {
     "name": "stdout",
     "output_type": "stream",
     "text": [
      "torch.Size([32, 65])\n",
      "tensor(4.6710, grad_fn=<NllLossBackward0>)\n"
     ]
    }
   ],
   "source": [
    "logits, loss = model(xb, yb)\n",
    "print(logits.shape)\n",
    "print(loss)"
   ]
  },
  {
   "cell_type": "code",
   "execution_count": 87,
   "id": "e572caa8",
   "metadata": {},
   "outputs": [
    {
     "name": "stdout",
     "output_type": "stream",
     "text": [
      "\n",
      "x, D'hJG-kkmMZ.MR?k.3igemYKsGMXlArwxJtaUbA&Mn:C-aJU bUyqA.\n",
      "xjh:JkMnlzCjhcyb:PvfP-IED\n",
      "m szEHKiRfSV.SfgznKOCZL',?aA-o:KdXLq,-B$LSLRYm;??tcSFOBoYS.LCjl'nMpigDLBVnt.LR:KMSCXJMJZZLVCl;JfqR?XtPQ!'TTYt:b!it-V'pS!\n",
      ":gS3ghOKjoVOaDJ&3a3XKjuPSK-jJaEE;?TprpS-pdijfjXlQCI\n",
      "mYgZKCIXfNrJaOm&gNdXj&q3mzz:Z3;hJszag:sgKp$mQC,Xw$eYUjiOiwG3Lt$QqUb!?GNNIUbk.yvE N\n",
      "RcfPlQQN&s.MfgjZXKFAHIodcfPPMQsV\n",
      "r -hyb!TMJ-\n",
      "$?mLnZoJTf sXwsp?sYNPP!gExeE fPO'dXd:QBTKnl;uCETPBQCM&!nlk:RX.&Bjm:MSvfptpEb!lkWX.ynsaGrDgKuuUQtNe,VYJaEkQQ:TpaEiV\n"
     ]
    }
   ],
   "source": [
    "# generate from the model\n",
    "context = torch.zeros((2, 1), dtype=torch.long)\n",
    "print(decode(model.generate(context, max_new_tokens=500)[1].tolist()))"
   ]
  },
  {
   "cell_type": "code",
   "execution_count": null,
   "id": "509435bb",
   "metadata": {},
   "outputs": [],
   "source": []
  }
 ],
 "metadata": {
  "kernelspec": {
   "display_name": "my_env",
   "language": "python",
   "name": "my_env"
  },
  "language_info": {
   "codemirror_mode": {
    "name": "ipython",
    "version": 3
   },
   "file_extension": ".py",
   "mimetype": "text/x-python",
   "name": "python",
   "nbconvert_exporter": "python",
   "pygments_lexer": "ipython3",
   "version": "3.8.6"
  }
 },
 "nbformat": 4,
 "nbformat_minor": 5
}
